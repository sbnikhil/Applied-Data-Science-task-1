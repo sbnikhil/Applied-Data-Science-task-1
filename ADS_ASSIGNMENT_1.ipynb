{
  "nbformat": 4,
  "nbformat_minor": 0,
  "metadata": {
    "colab": {
      "provenance": []
    },
    "kernelspec": {
      "name": "python3",
      "display_name": "Python 3"
    },
    "language_info": {
      "name": "python"
    }
  },
  "cells": [
    {
      "cell_type": "code",
      "execution_count": 11,
      "metadata": {
        "colab": {
          "base_uri": "https://localhost:8080/"
        },
        "id": "U3cS424cx-FW",
        "outputId": "f65c8f91-3514-4090-c06a-770a83bffd7f"
      },
      "outputs": [
        {
          "output_type": "stream",
          "name": "stdout",
          "text": [
            "Name -  S Bhaskar Nikhil\n",
            "Age -  20\n"
          ]
        }
      ],
      "source": [
        "#Question 1\n",
        "name = \"S Bhaskar Nikhil\"\n",
        "age = 20\n",
        "\n",
        "print(\"Name - \", name)\n",
        "print(\"Age - \", age)"
      ]
    },
    {
      "cell_type": "code",
      "source": [
        "#Question 2\n",
        "X= \"Datascience is used to extact meaningful insights.\"\n",
        "X.split()"
      ],
      "metadata": {
        "colab": {
          "base_uri": "https://localhost:8080/"
        },
        "id": "WBS0TSU4yZgJ",
        "outputId": "f37789d2-9521-408d-f269-6dd70ddc31d3"
      },
      "execution_count": 12,
      "outputs": [
        {
          "output_type": "execute_result",
          "data": {
            "text/plain": [
              "['Datascience', 'is', 'used', 'to', 'extact', 'meaningful', 'insights.']"
            ]
          },
          "metadata": {},
          "execution_count": 12
        }
      ]
    },
    {
      "cell_type": "code",
      "source": [
        "#Question 3\n",
        "def mul(a,b):\n",
        "  res = a*b\n",
        "  return res\n",
        "\n",
        "a = int(input(\"Enter number 1 - \"))\n",
        "b = int(input(\"Enter number 2 - \"))\n",
        "print(\"Multiplication of a and b yields - \",mul(a,b))"
      ],
      "metadata": {
        "colab": {
          "base_uri": "https://localhost:8080/"
        },
        "id": "Vy5EIatGyjUJ",
        "outputId": "511111a4-97ce-4b32-f29f-b8dcfe60c202"
      },
      "execution_count": 13,
      "outputs": [
        {
          "output_type": "stream",
          "name": "stdout",
          "text": [
            "Enter number 1 - 6\n",
            "Enter number 2 - 7\n",
            "Multiplication of a and b yields -  42\n"
          ]
        }
      ]
    },
    {
      "cell_type": "code",
      "source": [
        "#Question 4\n",
        "capitals = {\n",
        "    'Maharashtra': 'Mumbai',\n",
        "    'Tamil Nadu': 'Chennai',\n",
        "    'Telangana':'Hyderabad',\n",
        "    'Karnataka': 'Bangalore',\n",
        "    'Andhra Pradesh': 'Amaravati'\n",
        "}\n",
        "\n",
        "for state, capital in capitals.items():\n",
        "    print(\"State:\", state)\n",
        "    print(\"Capital:\", capital)\n",
        "    print(\"----------\")\n",
        "\n",
        "print(\"Keys:\", list(capitals.keys()))\n",
        "print(\"Values:\", list(capitals.values()))"
      ],
      "metadata": {
        "colab": {
          "base_uri": "https://localhost:8080/"
        },
        "id": "ww_-W_Epy9PF",
        "outputId": "2e9a705f-fe84-4848-d1fa-22e95033941a"
      },
      "execution_count": 14,
      "outputs": [
        {
          "output_type": "stream",
          "name": "stdout",
          "text": [
            "State: Maharashtra\n",
            "Capital: Mumbai\n",
            "----------\n",
            "State: Tamil Nadu\n",
            "Capital: Chennai\n",
            "----------\n",
            "State: Telangana\n",
            "Capital: Hyderabad\n",
            "----------\n",
            "State: Karnataka\n",
            "Capital: Bangalore\n",
            "----------\n",
            "State: Andhra Pradesh\n",
            "Capital: Amaravati\n",
            "----------\n",
            "Keys: ['Maharashtra', 'Tamil Nadu', 'Telangana', 'Karnataka', 'Andhra Pradesh']\n",
            "Values: ['Mumbai', 'Chennai', 'Hyderabad', 'Bangalore', 'Amaravati']\n"
          ]
        }
      ]
    },
    {
      "cell_type": "code",
      "source": [
        "#Question 5\n",
        "num = list(range(1, 1001))\n",
        "print(num)"
      ],
      "metadata": {
        "colab": {
          "base_uri": "https://localhost:8080/"
        },
        "id": "l1bulPqT0kFi",
        "outputId": "775d42d1-4727-4542-92e3-2d6596a34e92"
      },
      "execution_count": 15,
      "outputs": [
        {
          "output_type": "stream",
          "name": "stdout",
          "text": [
            "[1, 2, 3, 4, 5, 6, 7, 8, 9, 10, 11, 12, 13, 14, 15, 16, 17, 18, 19, 20, 21, 22, 23, 24, 25, 26, 27, 28, 29, 30, 31, 32, 33, 34, 35, 36, 37, 38, 39, 40, 41, 42, 43, 44, 45, 46, 47, 48, 49, 50, 51, 52, 53, 54, 55, 56, 57, 58, 59, 60, 61, 62, 63, 64, 65, 66, 67, 68, 69, 70, 71, 72, 73, 74, 75, 76, 77, 78, 79, 80, 81, 82, 83, 84, 85, 86, 87, 88, 89, 90, 91, 92, 93, 94, 95, 96, 97, 98, 99, 100, 101, 102, 103, 104, 105, 106, 107, 108, 109, 110, 111, 112, 113, 114, 115, 116, 117, 118, 119, 120, 121, 122, 123, 124, 125, 126, 127, 128, 129, 130, 131, 132, 133, 134, 135, 136, 137, 138, 139, 140, 141, 142, 143, 144, 145, 146, 147, 148, 149, 150, 151, 152, 153, 154, 155, 156, 157, 158, 159, 160, 161, 162, 163, 164, 165, 166, 167, 168, 169, 170, 171, 172, 173, 174, 175, 176, 177, 178, 179, 180, 181, 182, 183, 184, 185, 186, 187, 188, 189, 190, 191, 192, 193, 194, 195, 196, 197, 198, 199, 200, 201, 202, 203, 204, 205, 206, 207, 208, 209, 210, 211, 212, 213, 214, 215, 216, 217, 218, 219, 220, 221, 222, 223, 224, 225, 226, 227, 228, 229, 230, 231, 232, 233, 234, 235, 236, 237, 238, 239, 240, 241, 242, 243, 244, 245, 246, 247, 248, 249, 250, 251, 252, 253, 254, 255, 256, 257, 258, 259, 260, 261, 262, 263, 264, 265, 266, 267, 268, 269, 270, 271, 272, 273, 274, 275, 276, 277, 278, 279, 280, 281, 282, 283, 284, 285, 286, 287, 288, 289, 290, 291, 292, 293, 294, 295, 296, 297, 298, 299, 300, 301, 302, 303, 304, 305, 306, 307, 308, 309, 310, 311, 312, 313, 314, 315, 316, 317, 318, 319, 320, 321, 322, 323, 324, 325, 326, 327, 328, 329, 330, 331, 332, 333, 334, 335, 336, 337, 338, 339, 340, 341, 342, 343, 344, 345, 346, 347, 348, 349, 350, 351, 352, 353, 354, 355, 356, 357, 358, 359, 360, 361, 362, 363, 364, 365, 366, 367, 368, 369, 370, 371, 372, 373, 374, 375, 376, 377, 378, 379, 380, 381, 382, 383, 384, 385, 386, 387, 388, 389, 390, 391, 392, 393, 394, 395, 396, 397, 398, 399, 400, 401, 402, 403, 404, 405, 406, 407, 408, 409, 410, 411, 412, 413, 414, 415, 416, 417, 418, 419, 420, 421, 422, 423, 424, 425, 426, 427, 428, 429, 430, 431, 432, 433, 434, 435, 436, 437, 438, 439, 440, 441, 442, 443, 444, 445, 446, 447, 448, 449, 450, 451, 452, 453, 454, 455, 456, 457, 458, 459, 460, 461, 462, 463, 464, 465, 466, 467, 468, 469, 470, 471, 472, 473, 474, 475, 476, 477, 478, 479, 480, 481, 482, 483, 484, 485, 486, 487, 488, 489, 490, 491, 492, 493, 494, 495, 496, 497, 498, 499, 500, 501, 502, 503, 504, 505, 506, 507, 508, 509, 510, 511, 512, 513, 514, 515, 516, 517, 518, 519, 520, 521, 522, 523, 524, 525, 526, 527, 528, 529, 530, 531, 532, 533, 534, 535, 536, 537, 538, 539, 540, 541, 542, 543, 544, 545, 546, 547, 548, 549, 550, 551, 552, 553, 554, 555, 556, 557, 558, 559, 560, 561, 562, 563, 564, 565, 566, 567, 568, 569, 570, 571, 572, 573, 574, 575, 576, 577, 578, 579, 580, 581, 582, 583, 584, 585, 586, 587, 588, 589, 590, 591, 592, 593, 594, 595, 596, 597, 598, 599, 600, 601, 602, 603, 604, 605, 606, 607, 608, 609, 610, 611, 612, 613, 614, 615, 616, 617, 618, 619, 620, 621, 622, 623, 624, 625, 626, 627, 628, 629, 630, 631, 632, 633, 634, 635, 636, 637, 638, 639, 640, 641, 642, 643, 644, 645, 646, 647, 648, 649, 650, 651, 652, 653, 654, 655, 656, 657, 658, 659, 660, 661, 662, 663, 664, 665, 666, 667, 668, 669, 670, 671, 672, 673, 674, 675, 676, 677, 678, 679, 680, 681, 682, 683, 684, 685, 686, 687, 688, 689, 690, 691, 692, 693, 694, 695, 696, 697, 698, 699, 700, 701, 702, 703, 704, 705, 706, 707, 708, 709, 710, 711, 712, 713, 714, 715, 716, 717, 718, 719, 720, 721, 722, 723, 724, 725, 726, 727, 728, 729, 730, 731, 732, 733, 734, 735, 736, 737, 738, 739, 740, 741, 742, 743, 744, 745, 746, 747, 748, 749, 750, 751, 752, 753, 754, 755, 756, 757, 758, 759, 760, 761, 762, 763, 764, 765, 766, 767, 768, 769, 770, 771, 772, 773, 774, 775, 776, 777, 778, 779, 780, 781, 782, 783, 784, 785, 786, 787, 788, 789, 790, 791, 792, 793, 794, 795, 796, 797, 798, 799, 800, 801, 802, 803, 804, 805, 806, 807, 808, 809, 810, 811, 812, 813, 814, 815, 816, 817, 818, 819, 820, 821, 822, 823, 824, 825, 826, 827, 828, 829, 830, 831, 832, 833, 834, 835, 836, 837, 838, 839, 840, 841, 842, 843, 844, 845, 846, 847, 848, 849, 850, 851, 852, 853, 854, 855, 856, 857, 858, 859, 860, 861, 862, 863, 864, 865, 866, 867, 868, 869, 870, 871, 872, 873, 874, 875, 876, 877, 878, 879, 880, 881, 882, 883, 884, 885, 886, 887, 888, 889, 890, 891, 892, 893, 894, 895, 896, 897, 898, 899, 900, 901, 902, 903, 904, 905, 906, 907, 908, 909, 910, 911, 912, 913, 914, 915, 916, 917, 918, 919, 920, 921, 922, 923, 924, 925, 926, 927, 928, 929, 930, 931, 932, 933, 934, 935, 936, 937, 938, 939, 940, 941, 942, 943, 944, 945, 946, 947, 948, 949, 950, 951, 952, 953, 954, 955, 956, 957, 958, 959, 960, 961, 962, 963, 964, 965, 966, 967, 968, 969, 970, 971, 972, 973, 974, 975, 976, 977, 978, 979, 980, 981, 982, 983, 984, 985, 986, 987, 988, 989, 990, 991, 992, 993, 994, 995, 996, 997, 998, 999, 1000]\n"
          ]
        }
      ]
    },
    {
      "cell_type": "code",
      "source": [
        "#Question 6\n",
        "import numpy as np\n",
        "np.identity(4, dtype = int)"
      ],
      "metadata": {
        "colab": {
          "base_uri": "https://localhost:8080/"
        },
        "id": "58rkPURe07W9",
        "outputId": "f87fb18c-3fc3-4a24-be60-24cba348678e"
      },
      "execution_count": 16,
      "outputs": [
        {
          "output_type": "execute_result",
          "data": {
            "text/plain": [
              "array([[1, 0, 0, 0],\n",
              "       [0, 1, 0, 0],\n",
              "       [0, 0, 1, 0],\n",
              "       [0, 0, 0, 1]])"
            ]
          },
          "metadata": {},
          "execution_count": 16
        }
      ]
    },
    {
      "cell_type": "code",
      "source": [
        "#Question 7\n",
        "import random as rand\n",
        "matrix = [[rand.randint(1, 9) for _ in range(3)] for _ in range(3)]\n",
        "print(matrix)"
      ],
      "metadata": {
        "colab": {
          "base_uri": "https://localhost:8080/"
        },
        "id": "ZKZcqr7b1PJO",
        "outputId": "c6349e16-3600-427a-93d9-ce48b38f24c2"
      },
      "execution_count": 17,
      "outputs": [
        {
          "output_type": "stream",
          "name": "stdout",
          "text": [
            "[[6, 4, 5], [3, 3, 6], [5, 2, 4]]\n"
          ]
        }
      ]
    },
    {
      "cell_type": "code",
      "source": [
        "#Question 8\n",
        "mat1 = np.array([[rand.randint(1, 20) for _ in range(3)] for _ in range(3)])\n",
        "mat2 = np.array([[rand.randint(1, 20) for _ in range(3)] for _ in range(3)])\n",
        "res = mat1 + mat2\n",
        "print(\"matrix 1 - \\n\", mat1)\n",
        "print(\"\\nmatrix 2 - \\n\", mat2)\n",
        "print(\"\\nres = \\n\", res)"
      ],
      "metadata": {
        "colab": {
          "base_uri": "https://localhost:8080/"
        },
        "id": "tZL7Gb4F13bW",
        "outputId": "13e78a39-92be-4a76-f686-5c34e85c7ab1"
      },
      "execution_count": 18,
      "outputs": [
        {
          "output_type": "stream",
          "name": "stdout",
          "text": [
            "matrix 1 - \n",
            " [[17 14  2]\n",
            " [14  5  3]\n",
            " [12 20  2]]\n",
            "\n",
            "matrix 2 - \n",
            " [[ 1 10  8]\n",
            " [16  1  4]\n",
            " [19 13 15]]\n",
            "\n",
            "res = \n",
            " [[18 24 10]\n",
            " [30  6  7]\n",
            " [31 33 17]]\n"
          ]
        }
      ]
    },
    {
      "cell_type": "code",
      "source": [
        "#Question 9\n",
        "from datetime import datetime, timedelta\n",
        "\n",
        "start_date = datetime(2023, 2, 1)\n",
        "end_date = datetime(2023, 3, 1)\n",
        "dates = []\n",
        "current_date = start_date\n",
        "\n",
        "while current_date <= end_date:\n",
        "    dates.append(current_date)\n",
        "    current_date += timedelta(days=1)\n",
        "\n",
        "for date in dates:\n",
        "    print(date.strftime('%Y-%m-%d'))"
      ],
      "metadata": {
        "colab": {
          "base_uri": "https://localhost:8080/"
        },
        "id": "9PcaRRaX2Q9D",
        "outputId": "e33174f2-bcb9-44f5-836d-1b856c9781ce"
      },
      "execution_count": 19,
      "outputs": [
        {
          "output_type": "stream",
          "name": "stdout",
          "text": [
            "2023-02-01\n",
            "2023-02-02\n",
            "2023-02-03\n",
            "2023-02-04\n",
            "2023-02-05\n",
            "2023-02-06\n",
            "2023-02-07\n",
            "2023-02-08\n",
            "2023-02-09\n",
            "2023-02-10\n",
            "2023-02-11\n",
            "2023-02-12\n",
            "2023-02-13\n",
            "2023-02-14\n",
            "2023-02-15\n",
            "2023-02-16\n",
            "2023-02-17\n",
            "2023-02-18\n",
            "2023-02-19\n",
            "2023-02-20\n",
            "2023-02-21\n",
            "2023-02-22\n",
            "2023-02-23\n",
            "2023-02-24\n",
            "2023-02-25\n",
            "2023-02-26\n",
            "2023-02-27\n",
            "2023-02-28\n",
            "2023-03-01\n"
          ]
        }
      ]
    },
    {
      "cell_type": "code",
      "source": [
        "#Question 10\n",
        "import pandas as pd\n",
        "dict = {'Brand':['Maruti','Renault','Hyundai'], 'Sales':[250,200,240]}\n",
        "df= pd.DataFrame(dict)\n",
        "print(df)"
      ],
      "metadata": {
        "colab": {
          "base_uri": "https://localhost:8080/"
        },
        "id": "K1IaCJ9_3HO9",
        "outputId": "2ab0da5c-6ee5-4216-9396-d6fd37633d05"
      },
      "execution_count": 20,
      "outputs": [
        {
          "output_type": "stream",
          "name": "stdout",
          "text": [
            "     Brand  Sales\n",
            "0   Maruti    250\n",
            "1  Renault    200\n",
            "2  Hyundai    240\n"
          ]
        }
      ]
    }
  ]
}